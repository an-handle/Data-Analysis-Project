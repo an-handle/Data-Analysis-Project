{
 "cells": [
  {
   "cell_type": "markdown",
   "metadata": {},
   "source": [
    "# Analyze Supermarket Data Across the Country - Company XYZ\n",
    "\n",
    "Company XYZ owns a supermarket chain across the country. Each major branch located in 3 cities across the country recorded sales information for 3 months, to help the company understand sales trends and determine its growth, as the rise of supermarkets competition is seen."
   ]
  },
  {
   "cell_type": "markdown",
   "metadata": {},
   "source": [
    "## Step 1 - Loading the Dataset"
   ]
  },
  {
   "cell_type": "code",
   "execution_count": null,
   "metadata": {},
   "outputs": [],
   "source": [
    "# importing libraries\n",
    "import os\n",
    "import glob\n",
    "import pandas as pd\n",
    "os.chdir(\"C:\\\\Users\\Elite\\Downloads\\Data-Analysis-Project-main\\Data-Analysis-Project-main\")"
   ]
  },
  {
   "cell_type": "code",
   "execution_count": null,
   "metadata": {},
   "outputs": [],
   "source": [
    "# using glob to match the pattern \"csv\"\n",
    "extension = 'csv'\n",
    "all_filenames = [i for i in glob.glob('*.{}'.format(extension))]"
   ]
  },
  {
   "cell_type": "code",
   "execution_count": null,
   "metadata": {},
   "outputs": [],
   "source": [
    "# combining all the files in the generated list above\n",
    "all_branches = pd.concat([pd.read_csv(f) for f in all_filenames ])\n",
    "#exporting to csv\n",
    "all_branches.to_csv( \"all_branches.csv\", index=False, encoding='utf-8-sig')\n",
    "# Note: encoding = ‘utf-8-sig’ is added to overcome the issue when exporting ‘Non-English’ languages"
   ]
  },
  {
   "cell_type": "code",
   "execution_count": null,
   "metadata": {},
   "outputs": [],
   "source": [
    "# reading the csv file\n",
    "df = pd.read_csv('all_branches.csv')"
   ]
  },
  {
   "cell_type": "markdown",
   "metadata": {},
   "source": [
    "## Step 2 - Data Exploration\n",
    "In this step the loaded dataset is explored using some built-in Pandas function."
   ]
  },
  {
   "cell_type": "code",
   "execution_count": null,
   "metadata": {},
   "outputs": [],
   "source": [
    "# importing libraries \n",
    "import pandas as pd\n",
    "import numpy as np\n",
    "import seaborn as sns\n",
    "import matplotlib.pyplot as plt\n",
    "%matplotlib inline\n",
    "plt.style.use('fivethirtyeight')  \n",
    "import warnings\n",
    "warnings.filterwarnings('ignore')"
   ]
  },
  {
   "cell_type": "code",
   "execution_count": null,
   "metadata": {},
   "outputs": [],
   "source": [
    "# viewing the first 5 rows of the dataset\n",
    "df.head()"
   ]
  },
  {
   "cell_type": "code",
   "execution_count": null,
   "metadata": {},
   "outputs": [],
   "source": [
    "# checking the number of rows and columns present in the data\n",
    "df.shape\n",
    "# Note: it returns a tuple with the first number representing the number of rows and the second, the number of columns"
   ]
  },
  {
   "cell_type": "code",
   "execution_count": null,
   "metadata": {},
   "outputs": [],
   "source": [
    "# generating the names of the columns\n",
    "df.columns"
   ]
  },
  {
   "cell_type": "code",
   "execution_count": null,
   "metadata": {},
   "outputs": [],
   "source": [
    "# provides a quick overview (summary) of the missing data occurence\n",
    "df.isnull().sum()"
   ]
  },
  {
   "cell_type": "code",
   "execution_count": null,
   "metadata": {},
   "outputs": [],
   "source": [
    "# provides a concise summary of the dataframe\n",
    "df.info()"
   ]
  },
  {
   "cell_type": "markdown",
   "metadata": {},
   "source": [
    "## Step 3 - Dealing with DateTime Features\n",
    "From the summary above, it is observed that the date and time columns are not in the appropriate data type."
   ]
  },
  {
   "cell_type": "code",
   "execution_count": null,
   "metadata": {},
   "outputs": [],
   "source": [
    "# converting the date column to datetime\n",
    "df[\"Date\"]= pd.to_datetime(df[\"Date\"])"
   ]
  },
  {
   "cell_type": "code",
   "execution_count": null,
   "metadata": {},
   "outputs": [],
   "source": [
    "# checking the datatype to confirm if it's in datetime\n",
    "df.dtypes"
   ]
  },
  {
   "cell_type": "code",
   "execution_count": null,
   "metadata": {},
   "outputs": [],
   "source": [
    "# converting the time column to datetime\n",
    "df[\"Time\"]= pd.to_datetime(df[\"Time\"])"
   ]
  },
  {
   "cell_type": "code",
   "execution_count": null,
   "metadata": {},
   "outputs": [],
   "source": [
    "# checking the datatype to confirm if it's in datetime\n",
    "df.dtypes"
   ]
  },
  {
   "cell_type": "code",
   "execution_count": null,
   "metadata": {},
   "outputs": [],
   "source": [
    "# extracting the Day feature from the Date column and save to a new Day column\n",
    "df[\"Day\"] = df[\"Date\"].apply(lambda time: time.dayofweek)"
   ]
  },
  {
   "cell_type": "code",
   "execution_count": null,
   "metadata": {},
   "outputs": [],
   "source": [
    "# extracting the Month feature from the Date column and save to a new Month column\n",
    "df[\"Month\"] = df[\"Date\"].apply(lambda time: time.month)"
   ]
  },
  {
   "cell_type": "code",
   "execution_count": null,
   "metadata": {},
   "outputs": [],
   "source": [
    "# extracting the Year feature from the Date column and save to a new Year column\n",
    "df[\"Year\"] = df[\"Date\"].apply(lambda time: time.year)"
   ]
  },
  {
   "cell_type": "code",
   "execution_count": null,
   "metadata": {},
   "outputs": [],
   "source": [
    "# extracting the Hour feature from the Time column and save to a new Hour column\n",
    "df[\"Hour\"] = df[\"Time\"].apply(lambda time: time.hour)"
   ]
  },
  {
   "cell_type": "code",
   "execution_count": null,
   "metadata": {},
   "outputs": [],
   "source": [
    "# determining the numbers of unique hours of sales in the supermarket\n",
    "df[\"Hour\"].nunique()"
   ]
  },
  {
   "cell_type": "code",
   "execution_count": null,
   "metadata": {},
   "outputs": [],
   "source": [
    "# returning an array of unique hours of sales in the supermarket\n",
    "df[\"Hour\"].unique()"
   ]
  },
  {
   "cell_type": "markdown",
   "metadata": {},
   "source": [
    "## Step 4 - Unique Values in Columns"
   ]
  },
  {
   "cell_type": "code",
   "execution_count": null,
   "metadata": {},
   "outputs": [],
   "source": [
    "categorical_columns = [col for col in df.columns if df[col].dtype == \"object\" ]\n",
    "categorical_columns"
   ]
  },
  {
   "cell_type": "code",
   "execution_count": null,
   "metadata": {},
   "outputs": [],
   "source": [
    "# generating the unique values in the categorical columns gotten above\n",
    "print(\"Total Number of unique values in the Invoice ID Column : %d\" %(len(df['Invoice ID'].unique().tolist())))\n",
    "print(\"Total Number of unique values in the City Column : %d\" %(len(df['City'].unique().tolist())))\n",
    "print(\"Total Number of unique values in the Customer type Column : %d\" %(len(df['Customer type'].unique().tolist())))\n",
    "print(\"Total Number of unique values in the Gender Column : %d\" %(len(df['Gender'].unique().tolist())))\n",
    "print(\"Total Number of unique values in the Product line Column : %d\" %(len(df['Product line'].unique().tolist())))\n",
    "print(\"Total Number of unique values in the Payment Column : %d\" %(len(df['Payment'].unique().tolist())))"
   ]
  },
  {
   "cell_type": "code",
   "execution_count": null,
   "metadata": {},
   "outputs": [],
   "source": [
    "# to get a Series containing counts of unique values of Invoice ID column\n",
    "df['Invoice ID'].value_counts()"
   ]
  },
  {
   "cell_type": "code",
   "execution_count": null,
   "metadata": {},
   "outputs": [],
   "source": [
    "# to get a Series containing counts of unique values of Branch column\n",
    "df['Branch'].value_counts()"
   ]
  },
  {
   "cell_type": "code",
   "execution_count": null,
   "metadata": {},
   "outputs": [],
   "source": [
    "# to get a Series containing counts of unique values of City column\n",
    "df['City'].value_counts()"
   ]
  },
  {
   "cell_type": "code",
   "execution_count": null,
   "metadata": {},
   "outputs": [],
   "source": [
    "# to get a Series containing counts of unique values of Customer type column\n",
    "df['Customer type'].value_counts()"
   ]
  },
  {
   "cell_type": "code",
   "execution_count": null,
   "metadata": {},
   "outputs": [],
   "source": [
    "# to get a Series containing counts of unique values of Gender column\n",
    "df['Gender'].value_counts()"
   ]
  },
  {
   "cell_type": "code",
   "execution_count": null,
   "metadata": {},
   "outputs": [],
   "source": [
    "# to get a Series containing counts of unique values of Product line column\n",
    "df['Product line'].value_counts()"
   ]
  },
  {
   "cell_type": "code",
   "execution_count": null,
   "metadata": {},
   "outputs": [],
   "source": [
    "# to get a Series containing counts of unique values of Payment column\n",
    "df['Payment'].value_counts()"
   ]
  },
  {
   "cell_type": "markdown",
   "metadata": {},
   "source": [
    "## Step 5 - Aggregration with GroupBy"
   ]
  },
  {
   "cell_type": "code",
   "execution_count": null,
   "metadata": {},
   "outputs": [],
   "source": [
    "# creating a groupby object with the \"City Column\" and aggregation function of sum \n",
    "df.groupby(\"City\").sum()"
   ]
  },
  {
   "cell_type": "code",
   "execution_count": null,
   "metadata": {},
   "outputs": [],
   "source": [
    "# creating a groupby object with the \"City Column\" and aggregation function of mean\n",
    "df.groupby(\"City\").mean()"
   ]
  },
  {
   "cell_type": "code",
   "execution_count": null,
   "metadata": {},
   "outputs": [],
   "source": [
    "# using the groupby object, a table that shows the gross income of each city is displayed\n",
    "df.groupby(\"City\").sum()[['gross income']]"
   ]
  },
  {
   "cell_type": "markdown",
   "metadata": {},
   "source": [
    "### Looking  at the above code, the city with the highest income is Port Harcourt"
   ]
  },
  {
   "cell_type": "code",
   "execution_count": null,
   "metadata": {},
   "outputs": [],
   "source": [
    "# using the groupby object, a table that shows the Unit price of each city is displayed\n",
    "df.groupby(\"City\").sum()[['Unit price']]"
   ]
  },
  {
   "cell_type": "markdown",
   "metadata": {},
   "source": [
    "### Looking at the above code, the city with the highest unit price is Lagos"
   ]
  },
  {
   "cell_type": "code",
   "execution_count": null,
   "metadata": {},
   "outputs": [],
   "source": [
    "# using the groupby object, a table that shows the Quantity of each city is displayed\n",
    "df.groupby(\"City\").sum()[['Quantity']]"
   ]
  },
  {
   "cell_type": "markdown",
   "metadata": {},
   "source": [
    "### Looking at the above code, the city with the highest quantity is Lagos"
   ]
  },
  {
   "cell_type": "markdown",
   "metadata": {},
   "source": [
    "## Step 6 - Data Visualization"
   ]
  },
  {
   "cell_type": "code",
   "execution_count": null,
   "metadata": {},
   "outputs": [],
   "source": [
    "sns.countplot(x='City',data=df).set(title=\"Countplot for City's sales record\")"
   ]
  },
  {
   "cell_type": "code",
   "execution_count": null,
   "metadata": {},
   "outputs": [],
   "source": [
    "# countplot is used to determine the most used payment method for the city with the highest sales record\n",
    "sns.countplot(x='Payment',data=df.loc[df['City']!=\"Port Harcourt\"]).set(title=\"Payment record for PortHarcourt\")"
   ]
  },
  {
   "cell_type": "code",
   "execution_count": null,
   "metadata": {},
   "outputs": [],
   "source": [
    "# determining the highest & lowest sold product line, using Countplot\n",
    "sns.countplot(y='Product line',data=df).set(title=\"Counting product line\")"
   ]
  },
  {
   "cell_type": "code",
   "execution_count": null,
   "metadata": {},
   "outputs": [],
   "source": [
    "#Determine the Payment channel used by most customer to pay for each product line. \n",
    "#Count Plot Tips- Set the \"product line\" column to y-axis to prevent congestion on the x-axis, \n",
    "#and use the \"hue\" parameter for the \"Payment\" column.\n",
    "sns.countplot(y='Product line', hue=\"Payment\",data=df).set(title=\"Payment channel for each product line\")\n",
    "# to keep the legend outside so as to be able to view the data well\n",
    "plt.legend(bbox_to_anchor=(1.05, 1), loc=2, borderaxespad=0.)"
   ]
  },
  {
   "cell_type": "code",
   "execution_count": null,
   "metadata": {},
   "outputs": [],
   "source": [
    "# determining the Payment channel for each branch\n",
    "sns.countplot(x='Payment', hue=\"Branch\",data=df).set(title=\"Payment channel for each branch\")\n",
    "# to keep the legend outside so as to be able to view the data well\n",
    "plt.legend(bbox_to_anchor=(1.05, 1), loc=2, borderaxespad=0.)"
   ]
  },
  {
   "cell_type": "code",
   "execution_count": null,
   "metadata": {},
   "outputs": [],
   "source": [
    "# determining the branch with the lowest rating using box plot\n",
    "sns.boxplot(x='Branch',y='Rating',data=df).set(title=\"Branch with lowest rating\")"
   ]
  },
  {
   "cell_type": "markdown",
   "metadata": {},
   "source": [
    "### The above code shows that Branch B has the lowest rating"
   ]
  },
  {
   "cell_type": "code",
   "execution_count": null,
   "metadata": {},
   "outputs": [],
   "source": [
    "# to show if Uas gender."
   ]
  }
 ],
 "metadata": {
  "kernelspec": {
   "display_name": "Python 3",
   "language": "python",
   "name": "python3"
  },
  "language_info": {
   "codemirror_mode": {
    "name": "ipython",
    "version": 3
   },
   "file_extension": ".py",
   "mimetype": "text/x-python",
   "name": "python",
   "nbconvert_exporter": "python",
   "pygments_lexer": "ipython3",
   "version": "3.8.5"
  }
 },
 "nbformat": 4,
 "nbformat_minor": 4
}
